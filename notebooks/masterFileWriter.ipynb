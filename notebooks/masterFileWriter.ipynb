{
 "cells": [
  {
   "cell_type": "code",
   "execution_count": 4,
   "id": "622397f2",
   "metadata": {},
   "outputs": [],
   "source": [
    "import csv\n",
    "import os\n",
    "import re"
   ]
  },
  {
   "cell_type": "code",
   "execution_count": 5,
   "id": "bab9ffa7",
   "metadata": {},
   "outputs": [],
   "source": [
    "pattern = r'p_fieldRe(\\d+(?:\\.\\d+)?)\\.png'  \n",
    "with open('masterMlFile.csv', 'w', newline='') as csvfile:\n",
    "    writer = csv.writer(csvfile, delimiter=',',\n",
    "                        quotechar='|', quoting=csv.QUOTE_MINIMAL)\n",
    "    writer.writerow(['case_id','velocity_path','pressure_path','streamline_path','mask_path','geometry_type','Re'])\n",
    "    cases = [\"backwardStep\", \"forwardStep\", \"poiseuilleFlow\"]\n",
    "    geometries = [\"backward_step\", \"forward_step\", \"poiseuille\"]\n",
    "    for case, geo in zip(cases, geometries):\n",
    "        case_path = os.path.join('mlDataset', case)\n",
    "        # Path to folder with images\n",
    "        images_dir_path = os.path.join(case_path, 'images')\n",
    "        # List of images in the directory\n",
    "        images_list = os.listdir(images_dir_path)\n",
    "        pressure_images = [image for image in images_list if image.startswith(\"p_field\")]\n",
    "        for an_image in pressure_images:\n",
    "            Re = re.search(pattern, an_image).group(1)\n",
    "            case_id = f\"{case}_Re{Re}\"\n",
    "            velocity_path = os.path.join(images_dir_path, f\"U_fieldRe{Re}.png\")\n",
    "            pressure_path = os.path.join(images_dir_path, an_image)\n",
    "            streamline_path = os.path.join(images_dir_path, f\"streamlinesRe{Re}.png\")\n",
    "            mask_path = os.path.join(case_path, \"mask\", \"mask.png\")\n",
    "            writer.writerow([case_id, velocity_path, pressure_path, streamline_path, mask_path, geo, Re])\n",
    "        \n",
    "        "
   ]
  },
  {
   "cell_type": "code",
   "execution_count": null,
   "id": "c94ebc54",
   "metadata": {},
   "outputs": [],
   "source": []
  }
 ],
 "metadata": {
  "kernelspec": {
   "display_name": ".venv",
   "language": "python",
   "name": "python3"
  },
  "language_info": {
   "codemirror_mode": {
    "name": "ipython",
    "version": 3
   },
   "file_extension": ".py",
   "mimetype": "text/x-python",
   "name": "python",
   "nbconvert_exporter": "python",
   "pygments_lexer": "ipython3",
   "version": "3.11.13"
  }
 },
 "nbformat": 4,
 "nbformat_minor": 5
}
