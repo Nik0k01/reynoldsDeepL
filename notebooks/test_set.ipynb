{
 "cells": [
  {
   "cell_type": "markdown",
   "id": "6b578a0e",
   "metadata": {},
   "source": [
    "# Compare models on a test set"
   ]
  },
  {
   "cell_type": "code",
   "execution_count": 1,
   "id": "bc17ac23",
   "metadata": {},
   "outputs": [],
   "source": [
    "from fastai.tabular.all import *\n",
    "import numpy as np\n",
    "\n",
    "pd.options.display.max_rows = 20\n",
    "pd.options.display.max_columns = 8"
   ]
  },
  {
   "cell_type": "markdown",
   "id": "3eb8433b",
   "metadata": {},
   "source": [
    "Load the models"
   ]
  },
  {
   "cell_type": "code",
   "execution_count": 2,
   "id": "e059edea",
   "metadata": {},
   "outputs": [],
   "source": [
    "nn_model = load_pickle('models/wideModel.pkl')\n",
    "rf_model = load_pickle('models/randomForestModel.pkl')"
   ]
  },
  {
   "cell_type": "markdown",
   "id": "3c476076",
   "metadata": {},
   "source": [
    "Load the test set"
   ]
  },
  {
   "cell_type": "code",
   "execution_count": 3,
   "id": "73fe6039",
   "metadata": {},
   "outputs": [],
   "source": [
    "cwd = os.getcwd()\n",
    "parent = os.path.dirname(cwd)\n",
    "csv_path = os.path.join(parent, \"data/\", \"test_set.csv\")"
   ]
  },
  {
   "cell_type": "code",
   "execution_count": 4,
   "id": "ee7c1fe7",
   "metadata": {},
   "outputs": [
    {
     "data": {
      "text/html": [
       "<div>\n",
       "<style scoped>\n",
       "    .dataframe tbody tr th:only-of-type {\n",
       "        vertical-align: middle;\n",
       "    }\n",
       "\n",
       "    .dataframe tbody tr th {\n",
       "        vertical-align: top;\n",
       "    }\n",
       "\n",
       "    .dataframe thead th {\n",
       "        text-align: right;\n",
       "    }\n",
       "</style>\n",
       "<table border=\"1\" class=\"dataframe\">\n",
       "  <thead>\n",
       "    <tr style=\"text-align: right;\">\n",
       "      <th></th>\n",
       "      <th>p_in</th>\n",
       "      <th>Re</th>\n",
       "      <th>Geometry</th>\n",
       "    </tr>\n",
       "  </thead>\n",
       "  <tbody>\n",
       "    <tr>\n",
       "      <th>0</th>\n",
       "      <td>8.730040</td>\n",
       "      <td>10.50</td>\n",
       "      <td>testCaseRe</td>\n",
       "    </tr>\n",
       "    <tr>\n",
       "      <th>1</th>\n",
       "      <td>5.878845</td>\n",
       "      <td>20.00</td>\n",
       "      <td>testCaseRe</td>\n",
       "    </tr>\n",
       "    <tr>\n",
       "      <th>2</th>\n",
       "      <td>75.122210</td>\n",
       "      <td>1.00</td>\n",
       "      <td>testCaseRe</td>\n",
       "    </tr>\n",
       "    <tr>\n",
       "      <th>3</th>\n",
       "      <td>14.111010</td>\n",
       "      <td>5.75</td>\n",
       "      <td>testCaseRe</td>\n",
       "    </tr>\n",
       "    <tr>\n",
       "      <th>4</th>\n",
       "      <td>6.840435</td>\n",
       "      <td>15.25</td>\n",
       "      <td>testCaseRe</td>\n",
       "    </tr>\n",
       "  </tbody>\n",
       "</table>\n",
       "</div>"
      ],
      "text/plain": [
       "        p_in     Re    Geometry\n",
       "0   8.730040  10.50  testCaseRe\n",
       "1   5.878845  20.00  testCaseRe\n",
       "2  75.122210   1.00  testCaseRe\n",
       "3  14.111010   5.75  testCaseRe\n",
       "4   6.840435  15.25  testCaseRe"
      ]
     },
     "execution_count": 4,
     "metadata": {},
     "output_type": "execute_result"
    }
   ],
   "source": [
    "df = pd.read_csv(csv_path, low_memory=False)\n",
    "df.head(5)"
   ]
  },
  {
   "cell_type": "markdown",
   "id": "2b5cab6c",
   "metadata": {},
   "source": [
    "Prepare the data in the same way as we did with the training set."
   ]
  },
  {
   "cell_type": "code",
   "execution_count": 5,
   "id": "1dc86940",
   "metadata": {},
   "outputs": [
    {
     "data": {
      "text/html": [
       "<div>\n",
       "<style scoped>\n",
       "    .dataframe tbody tr th:only-of-type {\n",
       "        vertical-align: middle;\n",
       "    }\n",
       "\n",
       "    .dataframe tbody tr th {\n",
       "        vertical-align: top;\n",
       "    }\n",
       "\n",
       "    .dataframe thead th {\n",
       "        text-align: right;\n",
       "    }\n",
       "</style>\n",
       "<table border=\"1\" class=\"dataframe\">\n",
       "  <thead>\n",
       "    <tr style=\"text-align: right;\">\n",
       "      <th></th>\n",
       "      <th>p_in</th>\n",
       "      <th>Re</th>\n",
       "      <th>Geometry</th>\n",
       "    </tr>\n",
       "  </thead>\n",
       "  <tbody>\n",
       "    <tr>\n",
       "      <th>0</th>\n",
       "      <td>2.275218</td>\n",
       "      <td>10.50</td>\n",
       "      <td>unknown</td>\n",
       "    </tr>\n",
       "    <tr>\n",
       "      <th>1</th>\n",
       "      <td>1.928451</td>\n",
       "      <td>20.00</td>\n",
       "      <td>unknown</td>\n",
       "    </tr>\n",
       "    <tr>\n",
       "      <th>2</th>\n",
       "      <td>4.332340</td>\n",
       "      <td>1.00</td>\n",
       "      <td>unknown</td>\n",
       "    </tr>\n",
       "    <tr>\n",
       "      <th>3</th>\n",
       "      <td>2.715424</td>\n",
       "      <td>5.75</td>\n",
       "      <td>unknown</td>\n",
       "    </tr>\n",
       "    <tr>\n",
       "      <th>4</th>\n",
       "      <td>2.059294</td>\n",
       "      <td>15.25</td>\n",
       "      <td>unknown</td>\n",
       "    </tr>\n",
       "  </tbody>\n",
       "</table>\n",
       "</div>"
      ],
      "text/plain": [
       "       p_in     Re Geometry\n",
       "0  2.275218  10.50  unknown\n",
       "1  1.928451  20.00  unknown\n",
       "2  4.332340   1.00  unknown\n",
       "3  2.715424   5.75  unknown\n",
       "4  2.059294  15.25  unknown"
      ]
     },
     "execution_count": 5,
     "metadata": {},
     "output_type": "execute_result"
    }
   ],
   "source": [
    "df.Geometry = 'unknown'\n",
    "df['p_in'] = np.log1p(df['p_in'])\n",
    "df.head()"
   ]
  },
  {
   "cell_type": "code",
   "execution_count": 6,
   "id": "951c2db7",
   "metadata": {},
   "outputs": [],
   "source": [
    "# For Re (Reynolds number)\n",
    "df['Re_log'] = np.log1p(df['Re'])  # Log transform\n",
    "df['Re_squared'] = df['Re'] ** 2\n",
    "df['Re_sqrt'] = np.sqrt(df['Re'])\n",
    "df['Re_binned'] = pd.cut(df['Re'], bins=20, labels=False)  # Discretize\n",
    "\n",
    "# Physics-inspired features \n",
    "df['Re_inverse'] = 1 / (df['Re'] + 1e-6)\n",
    "df['Re_range_normalized'] = (df['Re'] - df['Re'].min()) / (df['Re'].max() - df['Re'].min())\n",
    "\n",
    "# Update continuous variables\n",
    "cont = ['Re', 'Re_log', 'Re_squared', 'Re_sqrt', 'Re_inverse', 'Re_range_normalized']"
   ]
  },
  {
   "cell_type": "code",
   "execution_count": 7,
   "id": "66571438",
   "metadata": {},
   "outputs": [],
   "source": [
    "procs = [Categorify,  Normalize]\n",
    "cat = [\"Geometry\", \"Re_binned\"]\n",
    "dep_var = \"p_in\""
   ]
  },
  {
   "cell_type": "code",
   "execution_count": 8,
   "id": "40f39fe2",
   "metadata": {},
   "outputs": [],
   "source": [
    "test_set = TabularPandas(\n",
    "    df=df,\n",
    "    procs=procs,\n",
    "    cat_names=cat,\n",
    "    cont_names=cont,\n",
    "    y_names=dep_var,\n",
    "    y_block=RegressionBlock(),\n",
    ")"
   ]
  },
  {
   "cell_type": "code",
   "execution_count": 9,
   "id": "089e0e0e",
   "metadata": {},
   "outputs": [],
   "source": [
    "dls = test_set.dataloaders(bs=16)  # Batch size 64"
   ]
  },
  {
   "cell_type": "code",
   "execution_count": 16,
   "id": "d60fd35a",
   "metadata": {},
   "outputs": [
    {
     "data": {
      "text/html": [
       "\n",
       "<style>\n",
       "    /* Turns off some styling */\n",
       "    progress {\n",
       "        /* gets rid of default border in Firefox and Opera. */\n",
       "        border: none;\n",
       "        /* Needs to be in here for Safari polyfill so background images work as expected. */\n",
       "        background-size: auto;\n",
       "    }\n",
       "    progress:not([value]), progress:not([value])::-webkit-progress-bar {\n",
       "        background: repeating-linear-gradient(45deg, #7e7e7e, #7e7e7e 10px, #5c5c5c 10px, #5c5c5c 20px);\n",
       "    }\n",
       "    .progress-bar-interrupted, .progress-bar-interrupted::-webkit-progress-bar {\n",
       "        background: #F44336;\n",
       "    }\n",
       "</style>\n"
      ],
      "text/plain": [
       "<IPython.core.display.HTML object>"
      ]
     },
     "metadata": {},
     "output_type": "display_data"
    },
    {
     "data": {
      "text/html": [],
      "text/plain": [
       "<IPython.core.display.HTML object>"
      ]
     },
     "metadata": {},
     "output_type": "display_data"
    }
   ],
   "source": [
    "preds, targets = nn_model.get_preds(dl=dls.train)"
   ]
  },
  {
   "cell_type": "code",
   "execution_count": 17,
   "id": "0b5d1bef",
   "metadata": {},
   "outputs": [
    {
     "data": {
      "text/plain": [
       "TensorBase(2.2381)"
      ]
     },
     "execution_count": 17,
     "metadata": {},
     "output_type": "execute_result"
    }
   ],
   "source": [
    "mae(preds, targets)"
   ]
  },
  {
   "cell_type": "code",
   "execution_count": 18,
   "id": "1617803b",
   "metadata": {},
   "outputs": [],
   "source": [
    "preds = preds.numpy().flatten()\n",
    "targets = targets.numpy().flatten()"
   ]
  },
  {
   "cell_type": "code",
   "execution_count": 20,
   "id": "e4517663",
   "metadata": {},
   "outputs": [
    {
     "data": {
      "image/png": "[encoded data removed]",
      "text/plain": [
       "<Figure size 400x400 with 1 Axes>"
      ]
     },
     "metadata": {},
     "output_type": "display_data"
    }
   ],
   "source": [
    "plt.figure(figsize=(4,4))\n",
    "plt.scatter(targets, preds, alpha=0.8, edgecolors='black')\n",
    "plt.plot(targets, targets, color='red')\n",
    "plt.xlabel(\"Actual Pressure Drop\")\n",
    "plt.ylabel(\"Predicted Pressure Drop\")\n",
    "plt.title(\"Neural Network On Test Set\")\n",
    "plt.grid()\n",
    "plt.show()"
   ]
  },
  {
   "cell_type": "code",
   "execution_count": 25,
   "id": "3415293f",
   "metadata": {},
   "outputs": [
    {
     "data": {
      "text/plain": [
       "TensorBase(2.0356)"
      ]
     },
     "execution_count": 25,
     "metadata": {},
     "output_type": "execute_result"
    }
   ],
   "source": [
    "rf_preds = rf_model.predict(test_set.xs)\n",
    "mae(tensor(rf_preds), tensor(test_set.y))"
   ]
  },
  {
   "cell_type": "code",
   "execution_count": null,
   "id": "8b0c0b90",
   "metadata": {},
   "outputs": [
    {
     "data": {
      "image/png": "[encoded data removed]",
      "text/plain": [
       "<Figure size 400x400 with 1 Axes>"
      ]
     },
     "metadata": {},
     "output_type": "display_data"
    }
   ],
   "source": [
    "plt.figure(figsize=(4,4))\n",
    "plt.scatter(targets, rf_preds, alpha=0.8, edgecolors='black')\n",
    "plt.plot(targets, targets, color='red')\n",
    "plt.xlabel(\"Actual Pressure Drop\")\n",
    "plt.ylabel(\"Predicted Pressure Drop\")\n",
    "plt.title(\"Random Forest On Test Set\")\n",
    "plt.grid()\n",
    "plt.show()"
   ]
  },
  {
   "cell_type": "code",
   "execution_count": null,
   "id": "aa15c8e0",
   "metadata": {},
   "outputs": [],
   "source": []
  }
 ],
 "metadata": {
  "kernelspec": {
   "display_name": "fastai-env",
   "language": "python",
   "name": "python3"
  },
  "language_info": {
   "codemirror_mode": {
    "name": "ipython",
    "version": 3
   },
   "file_extension": ".py",
   "mimetype": "text/x-python",
   "name": "python",
   "nbconvert_exporter": "python",
   "pygments_lexer": "ipython3",
   "version": "3.11.13"
  }
 },
 "nbformat": 4,
 "nbformat_minor": 5
}
