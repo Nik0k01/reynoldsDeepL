{
 "cells": [
  {
   "cell_type": "markdown",
   "id": "9a5d6749",
   "metadata": {},
   "source": [
    "# Write a master CSV file with data for neural network/machine learning "
   ]
  },
  {
   "cell_type": "markdown",
   "id": "3bda6d7a",
   "metadata": {},
   "source": [
    "Import necessary libraries"
   ]
  },
  {
   "cell_type": "code",
   "execution_count": 1,
   "id": "811d5b01",
   "metadata": {},
   "outputs": [],
   "source": [
    "import os\n",
    "import glob\n",
    "import pandas as pd"
   ]
  },
  {
   "cell_type": "code",
   "execution_count": 7,
   "id": "8a6a6638",
   "metadata": {},
   "outputs": [
    {
     "data": {
      "text/plain": [
       "'/home/niko/Documents/Python/reynoldsDeepL'"
      ]
     },
     "execution_count": 7,
     "metadata": {},
     "output_type": "execute_result"
    }
   ],
   "source": [
    "cwd = os.getcwd()\n",
    "parent = os.path.dirname(cwd)\n",
    "parent"
   ]
  },
  {
   "cell_type": "code",
   "execution_count": 10,
   "id": "65c66634",
   "metadata": {},
   "outputs": [
    {
     "data": {
      "text/plain": [
       "['channelStripRe=532.38',\n",
       " 'channelStripRe=760.11',\n",
       " 'leftStripBendRe=1898.78',\n",
       " 'rightStripBendRe=886.63',\n",
       " 'forwardStepRe=1468.62']"
      ]
     },
     "execution_count": 10,
     "metadata": {},
     "output_type": "execute_result"
    }
   ],
   "source": [
    "case_dir = os.path.join(parent, \"flowCases/\")\n",
    "case_list = os.listdir(case_dir)\n",
    "case_list[:5]"
   ]
  },
  {
   "cell_type": "markdown",
   "id": "46b45952",
   "metadata": {},
   "source": [
    "Read a value from a sample case"
   ]
  },
  {
   "cell_type": "code",
   "execution_count": 12,
   "id": "dc82ba1d",
   "metadata": {},
   "outputs": [
    {
     "data": {
      "text/plain": [
       "'/home/niko/Documents/Python/reynoldsDeepL/flowCases/channelStripRe=532.38/postProcessing/patchAverage(name=inlet,p)/0/surfaceFieldValue.dat'"
      ]
     },
     "execution_count": 12,
     "metadata": {},
     "output_type": "execute_result"
    }
   ],
   "source": [
    "case_path = os.path.join(case_dir, case_list[0])\n",
    "postFile = glob.glob(f\"{case_path}/postProcessing/*/0/surfaceFieldValue.dat\")[0]\n",
    "postFile"
   ]
  },
  {
   "cell_type": "code",
   "execution_count": 13,
   "id": "e5e92c01",
   "metadata": {},
   "outputs": [
    {
     "name": "stdout",
     "output_type": "stream",
     "text": [
      "11.9224\n"
     ]
    }
   ],
   "source": [
    "with open(postFile) as f:\n",
    "    lines = f.readlines()\n",
    "    print(float(lines[-1].split()[1]))  # last time, second column"
   ]
  },
  {
   "cell_type": "markdown",
   "id": "239f11ac",
   "metadata": {},
   "source": [
    "Let's turn what we did into a script for all of the cases and create the master CSV file"
   ]
  },
  {
   "cell_type": "code",
   "execution_count": 14,
   "id": "6d839867",
   "metadata": {},
   "outputs": [],
   "source": [
    "# Function to read value from file\n",
    "def read_value(path):\n",
    "        try:\n",
    "            with open(path) as f:\n",
    "                lines = f.readlines()\n",
    "                return float(lines[-1].split()[1])  # last time, second column\n",
    "        except:\n",
    "            return None"
   ]
  },
  {
   "cell_type": "code",
   "execution_count": 18,
   "id": "bfb087ff",
   "metadata": {},
   "outputs": [],
   "source": [
    "import re\n",
    "pattern = r'\\d+\\.\\d{2}'"
   ]
  },
  {
   "cell_type": "code",
   "execution_count": 19,
   "id": "e0f4d63d",
   "metadata": {},
   "outputs": [],
   "source": [
    "cwd = os.getcwd()\n",
    "parent = os.path.dirname(cwd)\n",
    "base_dir = os.path.join(parent, \"flowCases/\")\n",
    "rows = []\n",
    "\n",
    "for case in os.listdir(base_dir):\n",
    "    case_dir = os.path.join(base_dir, case)\n",
    "    if not os.path.isdir(case_dir):\n",
    "        continue\n",
    "    p_in = read_value(glob.glob(f\"{case_dir}/postProcessing/*/0/surfaceFieldValue.dat\")[0])\n",
    "    # Create dictionary for each case\n",
    "    rows.append({\n",
    "        \"p_in\": p_in,\n",
    "        \"Re\": re.search(pattern, case).group(0) if re.search(pattern, case) else None,\n",
    "        \"Geometry\": case.split('=')[0] if '=' in case else None        \n",
    "    })"
   ]
  },
  {
   "cell_type": "code",
   "execution_count": 20,
   "id": "c0bc7621",
   "metadata": {},
   "outputs": [
    {
     "data": {
      "text/html": [
       "<div>\n",
       "<style scoped>\n",
       "    .dataframe tbody tr th:only-of-type {\n",
       "        vertical-align: middle;\n",
       "    }\n",
       "\n",
       "    .dataframe tbody tr th {\n",
       "        vertical-align: top;\n",
       "    }\n",
       "\n",
       "    .dataframe thead th {\n",
       "        text-align: right;\n",
       "    }\n",
       "</style>\n",
       "<table border=\"1\" class=\"dataframe\">\n",
       "  <thead>\n",
       "    <tr style=\"text-align: right;\">\n",
       "      <th></th>\n",
       "      <th>p_in</th>\n",
       "      <th>Re</th>\n",
       "      <th>Geometry</th>\n",
       "    </tr>\n",
       "  </thead>\n",
       "  <tbody>\n",
       "    <tr>\n",
       "      <th>0</th>\n",
       "      <td>11.922400</td>\n",
       "      <td>532.38</td>\n",
       "      <td>channelStripRe</td>\n",
       "    </tr>\n",
       "    <tr>\n",
       "      <th>1</th>\n",
       "      <td>12.093420</td>\n",
       "      <td>760.11</td>\n",
       "      <td>channelStripRe</td>\n",
       "    </tr>\n",
       "    <tr>\n",
       "      <th>2</th>\n",
       "      <td>6.648019</td>\n",
       "      <td>1898.78</td>\n",
       "      <td>leftStripBendRe</td>\n",
       "    </tr>\n",
       "  </tbody>\n",
       "</table>\n",
       "</div>"
      ],
      "text/plain": [
       "        p_in       Re         Geometry\n",
       "0  11.922400   532.38   channelStripRe\n",
       "1  12.093420   760.11   channelStripRe\n",
       "2   6.648019  1898.78  leftStripBendRe"
      ]
     },
     "execution_count": 20,
     "metadata": {},
     "output_type": "execute_result"
    }
   ],
   "source": [
    "df = pd.DataFrame(rows)\n",
    "df.head(3)"
   ]
  },
  {
   "cell_type": "code",
   "execution_count": 22,
   "id": "537bbe8e",
   "metadata": {},
   "outputs": [],
   "source": [
    "csv_folder = os.path.join(parent, \"data\")\n",
    "if not os.path.exists(csv_folder):\n",
    "    os.makedirs(csv_folder)\n",
    "csv_path = os.path.join(csv_folder, \"master_results.csv\")\n",
    "df.to_csv(csv_path, index=False)"
   ]
  },
  {
   "cell_type": "code",
   "execution_count": null,
   "id": "0537353d",
   "metadata": {},
   "outputs": [],
   "source": []
  }
 ],
 "metadata": {
  "kernelspec": {
   "display_name": ".venv",
   "language": "python",
   "name": "python3"
  },
  "language_info": {
   "codemirror_mode": {
    "name": "ipython",
    "version": 3
   },
   "file_extension": ".py",
   "mimetype": "text/x-python",
   "name": "python",
   "nbconvert_exporter": "python",
   "pygments_lexer": "ipython3",
   "version": "3.11.13"
  }
 },
 "nbformat": 4,
 "nbformat_minor": 5
}
