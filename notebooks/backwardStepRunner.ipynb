{
 "cells": [
  {
   "cell_type": "code",
   "execution_count": 1,
   "id": "dffb3349",
   "metadata": {},
   "outputs": [],
   "source": [
    "import os\n",
    "from numpy import geomspace\n",
    "from PyFoam.RunDictionary.SolutionDirectory import SolutionDirectory\n",
    "from PyFoam.RunDictionary.ParsedParameterFile import ParsedParameterFile\n",
    "from PyFoam.Basics.DataStructures import Vector"
   ]
  },
  {
   "cell_type": "code",
   "execution_count": 4,
   "id": "f3408c49",
   "metadata": {},
   "outputs": [],
   "source": [
    "viscosity_vals = geomspace(2.54e-6, 0.0254, 80)  # Varying viscosity values\n",
    "reynolds_no = 1. * 0.0254 / viscosity_vals "
   ]
  },
  {
   "cell_type": "markdown",
   "id": "965b186b",
   "metadata": {},
   "source": [
    "### Create Case Directories"
   ]
  },
  {
   "cell_type": "code",
   "execution_count": 5,
   "id": "f2e5432e",
   "metadata": {},
   "outputs": [],
   "source": [
    "# Genererate cases with different viscosities\n",
    "for i, Re in enumerate(reynolds_no):\n",
    "    # === Laminar case ===\n",
    "    if Re < 2000:\n",
    "        templateDir = SolutionDirectory(\"Templates/backwardStepLaminarTemplate\", archive=None, paraviewLink=False)\n",
    "    # === Turbulent case ===\n",
    "    else:\n",
    "        templateDir = SolutionDirectory(\"Templates/backwardStepTurbulentTemplate\", archive=None, paraviewLink=False)\n",
    "    # Create a new case\n",
    "    case = templateDir.cloneCase(f\"backwardStepCases/backwardStepFlow-Re{Re:.2f}\", paraviewLink=False)\n",
    "    # Get the directory with viscosity parameter\n",
    "    transportProps = ParsedParameterFile(os.path.join(case.name, \"constant\", \"transportProperties\"))\n",
    "    # Set appropriate value of viscosity\n",
    "    transportProps[\"nu\"] = viscosity_vals[i]\n",
    "    # Save the transport properties dictionary\n",
    "    transportProps.writeFile()"
   ]
  },
  {
   "cell_type": "markdown",
   "id": "f7d71ddc",
   "metadata": {},
   "source": [
    "### Export graphs for ML"
   ]
  },
  {
   "cell_type": "code",
   "execution_count": 2,
   "id": "38d8aae3",
   "metadata": {},
   "outputs": [],
   "source": [
    "import pyvista as pv"
   ]
  },
  {
   "cell_type": "code",
   "execution_count": 5,
   "id": "ff929229",
   "metadata": {},
   "outputs": [],
   "source": [
    "# Generate pressure and velocity contours and pathlines for each case in poiseuilleFlow dir\n",
    "case_dir_list = os.listdir(\"backwardStepCases/\")\n",
    "for case in case_dir_list:\n",
    "    # Define a path to a folder\n",
    "    case_path = os.path.join(\"backwardStepCases/\", case)\n",
    "    # Get the path to VTK folder\n",
    "    vtk_path = os.path.join(case_path, \"VTK\")\n",
    "    # Get the list of appropriate files\n",
    "    vtk_files = os.listdir(vtk_path)\n",
    "    # Get only the files with .vtm extension\n",
    "    vtk_files = [a_file for a_file in vtk_files if \".vtm\" in a_file and \".series\" not in a_file]\n",
    "    # Get the last iteration\n",
    "    vtk_file = max(vtk_files, key=lambda f: int(f.split(\"_\")[-1].split(\".\")[0]))\n",
    "    # Create path to the VTK file\n",
    "    vtk_file_path = os.path.join(vtk_path, vtk_file)\n",
    "    # Get the Reynolds No.\n",
    "    Re_num = vtk_file.split(\"-\")[-1].split(\"_\")[0]\n",
    "    # Define appropriate camera position\n",
    "    camera_position = [(0.1, 0, 0.5), (0.1, 0, 0), (0, 0, 0)]\n",
    "    # Read mesh\n",
    "    mesh = pv.read(vtk_file_path)\n",
    "    vol = mesh[0]\n",
    "    # Streamline plot\n",
    "    combined_mesh = mesh.combine()\n",
    "    combined_mesh.set_active_vectors(\"U\")\n",
    "    one_streamline = combined_mesh.streamlines(\n",
    "        pointa=(0.1, -0.0254, 0),\n",
    "        pointb=(0.1, 0.0254, 0),\n",
    "        n_points=15,\n",
    "        max_length=1,\n",
    "        compute_vorticity=False,  # vorticity already exists in dataset\n",
    "    )\n",
    "    # Create a plotter\n",
    "    plotter = pv.Plotter(off_screen=True)\n",
    "    windows_size = (500, 300)\n",
    "    # Pressure field plot\n",
    "    plotter.add_mesh(vol, scalars=\"p\", cmap=\"linear_grey_0_100_c0\", show_scalar_bar=False)\n",
    "    plotter.camera_position = camera_position\n",
    "    plotter.window_size = windows_size\n",
    "    plotter.screenshot(filename=f\"mlDataset/backwardStep/images/p_field{Re_num}.png\")\n",
    "    plotter.clear()\n",
    "    # Velocity field plot\n",
    "    plotter.add_mesh(vol, scalars=\"U\", cmap=\"linear_grey_0_100_c0\", show_scalar_bar=False)\n",
    "    plotter.screenshot(filename=f\"mlDataset/backwardStep/images/U_field{Re_num}.png\")\n",
    "    plotter.clear()\n",
    "    # Streamline plot\n",
    "    plotter.add_mesh(one_streamline, color=\"black\")\n",
    "    plotter.screenshot(filename=f\"mlDataset/backwardStep/images/streamlines{Re_num}.png\")\n",
    "    plotter.close()"
   ]
  },
  {
   "cell_type": "markdown",
   "id": "0c598d32",
   "metadata": {},
   "source": [
    "### Create a mask"
   ]
  },
  {
   "cell_type": "code",
   "execution_count": null,
   "id": "3fbb92f2",
   "metadata": {},
   "outputs": [
    {
     "data": {
      "text/plain": [
       "pyvista_ndarray([[[0, 0, 0],\n",
       "                  [0, 0, 0],\n",
       "                  [0, 0, 0],\n",
       "                  ...,\n",
       "                  [0, 0, 0],\n",
       "                  [0, 0, 0],\n",
       "                  [0, 0, 0]],\n",
       "\n",
       "                 [[0, 0, 0],\n",
       "                  [0, 0, 0],\n",
       "                  [0, 0, 0],\n",
       "                  ...,\n",
       "                  [0, 0, 0],\n",
       "                  [0, 0, 0],\n",
       "                  [0, 0, 0]],\n",
       "\n",
       "                 [[0, 0, 0],\n",
       "                  [0, 0, 0],\n",
       "                  [0, 0, 0],\n",
       "                  ...,\n",
       "                  [0, 0, 0],\n",
       "                  [0, 0, 0],\n",
       "                  [0, 0, 0]],\n",
       "\n",
       "                 ...,\n",
       "\n",
       "                 [[0, 0, 0],\n",
       "                  [0, 0, 0],\n",
       "                  [0, 0, 0],\n",
       "                  ...,\n",
       "                  [0, 0, 0],\n",
       "                  [0, 0, 0],\n",
       "                  [0, 0, 0]],\n",
       "\n",
       "                 [[0, 0, 0],\n",
       "                  [0, 0, 0],\n",
       "                  [0, 0, 0],\n",
       "                  ...,\n",
       "                  [0, 0, 0],\n",
       "                  [0, 0, 0],\n",
       "                  [0, 0, 0]],\n",
       "\n",
       "                 [[0, 0, 0],\n",
       "                  [0, 0, 0],\n",
       "                  [0, 0, 0],\n",
       "                  ...,\n",
       "                  [0, 0, 0],\n",
       "                  [0, 0, 0],\n",
       "                  [0, 0, 0]]], shape=(300, 500, 3), dtype=uint8)"
      ]
     },
     "execution_count": 31,
     "metadata": {},
     "output_type": "execute_result"
    }
   ],
   "source": [
    "plotter = pv.Plotter()\n",
    "plotter.add_mesh(mesh[0], color=\"white\", show_edges=False)\n",
    "plotter.camera_position = camera_position\n",
    "plotter.background_color = 'black'\n",
    "plotter.window_size = (500, 300)\n",
    "plotter.screenshot(filename=f\"mlDataset/backwardStep/mask/backwardStepFlowMask.png\")"
   ]
  },
  {
   "cell_type": "code",
   "execution_count": null,
   "id": "ec28bd72",
   "metadata": {},
   "outputs": [],
   "source": []
  }
 ],
 "metadata": {
  "kernelspec": {
   "display_name": ".venv",
   "language": "python",
   "name": "python3"
  },
  "language_info": {
   "codemirror_mode": {
    "name": "ipython",
    "version": 3
   },
   "file_extension": ".py",
   "mimetype": "text/x-python",
   "name": "python",
   "nbconvert_exporter": "python",
   "pygments_lexer": "ipython3",
   "version": "3.11.13"
  }
 },
 "nbformat": 4,
 "nbformat_minor": 5
}
