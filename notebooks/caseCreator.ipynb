{
 "cells": [
  {
   "cell_type": "code",
   "execution_count": 21,
   "id": "dffb3349",
   "metadata": {},
   "outputs": [],
   "source": [
    "import os\n",
    "from numpy import linspace\n",
    "from PyFoam.RunDictionary.SolutionDirectory import SolutionDirectory\n",
    "from PyFoam.RunDictionary.ParsedParameterFile import ParsedParameterFile\n",
    "import pathlib"
   ]
  },
  {
   "cell_type": "code",
   "execution_count": 22,
   "id": "f3408c49",
   "metadata": {},
   "outputs": [],
   "source": [
    "reynolds_no = linspace(1, 2000, 80) # Reynolds numbers to simulate\n",
    "# Kinematic viscosity values based on characteristic geometry\n",
    "viscosity_vals = {\n",
    "    \"bend\": 0.02 / reynolds_no,\n",
    "    \"step\": 0.1 / reynolds_no,\n",
    "    \"channel\": 0.1 / reynolds_no,\n",
    "    \"channelstrip\": 0.1 / reynolds_no\n",
    "}"
   ]
  },
  {
   "cell_type": "markdown",
   "id": "965b186b",
   "metadata": {},
   "source": [
    "### Create Case Directories"
   ]
  },
  {
   "cell_type": "markdown",
   "id": "d000522d",
   "metadata": {},
   "source": [
    "Get the name of the folders in Templates directory"
   ]
  },
  {
   "cell_type": "code",
   "execution_count": 23,
   "id": "d4b1d7f1",
   "metadata": {},
   "outputs": [
    {
     "data": {
      "text/plain": [
       "PosixPath('/home/niko/Documents/Python/reynoldsDeepL/templates')"
      ]
     },
     "execution_count": 23,
     "metadata": {},
     "output_type": "execute_result"
    }
   ],
   "source": [
    "path = pathlib.Path.cwd()\n",
    "templates_dir = path.parent / 'templates'\n",
    "templates_dir"
   ]
  },
  {
   "cell_type": "markdown",
   "id": "a64f1c7a",
   "metadata": {},
   "source": [
    "Iterate over the folders in templates dir to create flow cases"
   ]
  },
  {
   "cell_type": "code",
   "execution_count": 24,
   "id": "913967d6",
   "metadata": {},
   "outputs": [],
   "source": [
    "for dir in templates_dir.iterdir():\n",
    "    templateDir = SolutionDirectory(dir, archive=None, paraviewLink=False)\n",
    "    # Get the type of the case\n",
    "    template_case_name = dir.stem\n",
    "    # Drop the template\n",
    "    case_name = template_case_name[:-8]\n",
    "    for i, reynolds in enumerate(reynolds_no):\n",
    "        # Define the unique name for the case\n",
    "        flow_case = path.parent / \"flowCases\" / f\"{case_name}Re={reynolds:.2f}\"\n",
    "        # Create a new case\n",
    "        case = templateDir.cloneCase(str(flow_case), paraviewLink=False)\n",
    "        if \"bend\" in case_name.lower():\n",
    "            vis = viscosity_vals[\"bend\"]\n",
    "        elif \"step\" in case_name.lower():\n",
    "            vis = viscosity_vals[\"step\"]\n",
    "        elif \"channelstrip\" in case_name.lower():\n",
    "            vis = viscosity_vals[\"channelstrip\"]\n",
    "        else:\n",
    "            vis = viscosity_vals[\"channel\"]\n",
    "        # Get the directory with viscosity parameter\n",
    "        transportProps = ParsedParameterFile(flow_case / \"constant\" / \"transportProperties\")\n",
    "        # Set appropriate value of viscosity\n",
    "        transportProps[\"nu\"] = vis[i]\n",
    "        # Save the transport properties dictionary\n",
    "        transportProps.writeFile()\n",
    "             "
   ]
  }
 ],
 "metadata": {
  "kernelspec": {
   "display_name": ".venv",
   "language": "python",
   "name": "python3"
  },
  "language_info": {
   "codemirror_mode": {
    "name": "ipython",
    "version": 3
   },
   "file_extension": ".py",
   "mimetype": "text/x-python",
   "name": "python",
   "nbconvert_exporter": "python",
   "pygments_lexer": "ipython3",
   "version": "3.11.13"
  }
 },
 "nbformat": 4,
 "nbformat_minor": 5
}
