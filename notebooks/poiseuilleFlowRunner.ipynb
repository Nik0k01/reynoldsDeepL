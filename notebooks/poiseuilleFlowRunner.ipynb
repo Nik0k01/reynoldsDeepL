{
 "cells": [
  {
   "cell_type": "code",
   "execution_count": 10,
   "id": "654117cb",
   "metadata": {},
   "outputs": [],
   "source": [
    "import os\n",
    "from numpy import geomspace\n",
    "from PyFoam.RunDictionary.SolutionDirectory import SolutionDirectory\n",
    "from PyFoam.RunDictionary.ParsedParameterFile import ParsedParameterFile\n",
    "from PyFoam.Basics.DataStructures import Vector\n",
    "from colorcet import cm"
   ]
  },
  {
   "cell_type": "code",
   "execution_count": 3,
   "id": "5d0252aa",
   "metadata": {},
   "outputs": [],
   "source": [
    "viscosity_vals = geomspace(0.00001, 0.01, 200)  # Varying viscosity values\n",
    "reynolds_no = 1. * 0.1 / viscosity_vals "
   ]
  },
  {
   "cell_type": "markdown",
   "id": "2ce403b4",
   "metadata": {},
   "source": [
    "### Create Case Directories"
   ]
  },
  {
   "cell_type": "code",
   "execution_count": 4,
   "id": "e47a25a9",
   "metadata": {},
   "outputs": [],
   "source": [
    "# Genererate cases with different viscosities\n",
    "for i, Re in enumerate(reynolds_no):\n",
    "    # === Laminar case ===\n",
    "    if Re < 2000:\n",
    "        templateDir = SolutionDirectory(\"poiseuilleFlowLaminarTemplate\", archive=None, paraviewLink=False)\n",
    "    # === Turbulent case ===\n",
    "    else:\n",
    "        templateDir = SolutionDirectory(\"poiseuilleFlowTurbulentTemplate\", archive=None, paraviewLink=False)\n",
    "    # Create a new case\n",
    "    case = templateDir.cloneCase(f\"poiseuilleFlowCases/poiseuilleFlow-Re{Re:.2f}\", paraviewLink=False)\n",
    "    # Get the directory with viscosity parameter\n",
    "    transportProps = ParsedParameterFile(os.path.join(case.name, \"constant\", \"transportProperties\"))\n",
    "    # Set appropriate value of viscosity\n",
    "    transportProps[\"nu\"] = viscosity_vals[i]\n",
    "    # Save the transport properties dictionary\n",
    "    transportProps.writeFile()"
   ]
  },
  {
   "cell_type": "markdown",
   "id": "4c1f47f5",
   "metadata": {},
   "source": [
    "### Export graphs for ML"
   ]
  },
  {
   "cell_type": "code",
   "execution_count": 11,
   "id": "526c1ee1",
   "metadata": {},
   "outputs": [],
   "source": [
    "import pyvista as pv"
   ]
  },
  {
   "cell_type": "code",
   "execution_count": 13,
   "id": "981ded36",
   "metadata": {},
   "outputs": [],
   "source": [
    "# Generate pressure and velocity contours and pathlines for each case in poiseuilleFlow dir\n",
    "case_dir_list = os.listdir(\"poiseuilleFlowCases/\")\n",
    "for case in case_dir_list:\n",
    "    # Define a path to a folder\n",
    "    case_path = os.path.join(\"poiseuilleFlowCases/\", case)\n",
    "    # Get the path to VTK folder\n",
    "    vtk_path = os.path.join(case_path, \"VTK\")\n",
    "    # Get the list of appropriate files\n",
    "    vtk_files = os.listdir(vtk_path)\n",
    "    # Get only the files with .vtm extension\n",
    "    vtk_files = [a_file for a_file in vtk_files if \".vtm\" in a_file and \".series\" not in a_file]\n",
    "    # Get the last iteration\n",
    "    vtk_file = max(vtk_files, key=lambda f: int(f.split(\"_\")[-1].split(\".\")[0]))\n",
    "    # Create path to the VTK file\n",
    "    vtk_file_path = os.path.join(vtk_path, vtk_file)\n",
    "    # Get the Reynolds No.\n",
    "    Re_num = vtk_file.split(\"-\")[-1].split(\"_\")[0]\n",
    "    # Laminar case - we don't have to do mirror reflection\n",
    "    if float(Re_num[2:]) < 2000:\n",
    "        # Define appropriate camera position\n",
    "        camera_position = [(0.5, 0.05, 1.25), (0.5, 0.05, 0), (0, 1, 0)]\n",
    "        mesh = pv.read(vtk_file_path)\n",
    "        vol = mesh[0]\n",
    "        # Streamline plot\n",
    "        combined_mesh = mesh.combine()\n",
    "        combined_mesh.set_active_vectors(\"U\")\n",
    "        one_streamline = combined_mesh.streamlines(\n",
    "            pointa=(0.5, 0, 0),\n",
    "            pointb=(0.5, 0.1, 0),\n",
    "            n_points=15,\n",
    "            max_length=100.0,\n",
    "            compute_vorticity=False,  # vorticity already exists in dataset\n",
    "        )\n",
    "    else:\n",
    "        # Define appropriate camera position\n",
    "        camera_position = [(0.5, 0.0, 1.25), (0.5, 0.0, 0), (0, 1, 0)]\n",
    "        mesh = pv.read(vtk_file_path)\n",
    "        mesh = mesh.combine()\n",
    "        # Reflect along x\n",
    "        reflected_mesh = mesh.reflect(normal=(0, 1, 0))\n",
    "        # Merge original and mirrored\n",
    "        vol = mesh.merge(reflected_mesh)\n",
    "        # Streamline plot\n",
    "        vol.set_active_vectors(\"U\")\n",
    "        one_streamline = vol.streamlines(\n",
    "            pointa=(0.5, -0.05, 0),\n",
    "            pointb=(0.5, 0.05, 0),\n",
    "            n_points=15,\n",
    "            max_length=100.0,\n",
    "            compute_vorticity=False,  # vorticity already exists in dataset\n",
    "        )    \n",
    "    # Create a plotter\n",
    "    plotter = pv.Plotter(off_screen=True)\n",
    "    windows_size = (500, 300)\n",
    "    # Pressure field plot\n",
    "    plotter.add_mesh(vol, scalars=\"p\", cmap='linear_grey_0_100_c0', show_scalar_bar=False)\n",
    "    plotter.camera_position = camera_position\n",
    "    plotter.window_size = windows_size\n",
    "    plotter.screenshot(filename=f\"mlDataset/poiseuilleFlow/images/p_field{Re_num}.png\")\n",
    "    plotter.clear()\n",
    "    # Velocity field plot\n",
    "    plotter.add_mesh(vol, scalars=\"U\", cmap=\"linear_grey_0_100_c0\", show_scalar_bar=False)\n",
    "    plotter.screenshot(filename=f\"mlDataset/poiseuilleFlow/images/U_field{Re_num}.png\")\n",
    "    plotter.clear()\n",
    "    # Streamline plot\n",
    "    plotter.add_mesh(one_streamline, color=\"black\")\n",
    "    plotter.screenshot(filename=f\"mlDataset/poiseuilleFlow/images/streamlines{Re_num}.png\")\n",
    "    plotter.close()"
   ]
  },
  {
   "cell_type": "markdown",
   "id": "825a297a",
   "metadata": {},
   "source": [
    "### Create a mask for poiseuille Flow"
   ]
  },
  {
   "cell_type": "code",
   "execution_count": 5,
   "id": "e502a236",
   "metadata": {},
   "outputs": [
    {
     "data": {
      "text/plain": [
       "pyvista_ndarray([[[0, 0, 0],\n",
       "                  [0, 0, 0],\n",
       "                  [0, 0, 0],\n",
       "                  ...,\n",
       "                  [0, 0, 0],\n",
       "                  [0, 0, 0],\n",
       "                  [0, 0, 0]],\n",
       "\n",
       "                 [[0, 0, 0],\n",
       "                  [0, 0, 0],\n",
       "                  [0, 0, 0],\n",
       "                  ...,\n",
       "                  [0, 0, 0],\n",
       "                  [0, 0, 0],\n",
       "                  [0, 0, 0]],\n",
       "\n",
       "                 [[0, 0, 0],\n",
       "                  [0, 0, 0],\n",
       "                  [0, 0, 0],\n",
       "                  ...,\n",
       "                  [0, 0, 0],\n",
       "                  [0, 0, 0],\n",
       "                  [0, 0, 0]],\n",
       "\n",
       "                 ...,\n",
       "\n",
       "                 [[0, 0, 0],\n",
       "                  [0, 0, 0],\n",
       "                  [0, 0, 0],\n",
       "                  ...,\n",
       "                  [0, 0, 0],\n",
       "                  [0, 0, 0],\n",
       "                  [0, 0, 0]],\n",
       "\n",
       "                 [[0, 0, 0],\n",
       "                  [0, 0, 0],\n",
       "                  [0, 0, 0],\n",
       "                  ...,\n",
       "                  [0, 0, 0],\n",
       "                  [0, 0, 0],\n",
       "                  [0, 0, 0]],\n",
       "\n",
       "                 [[0, 0, 0],\n",
       "                  [0, 0, 0],\n",
       "                  [0, 0, 0],\n",
       "                  ...,\n",
       "                  [0, 0, 0],\n",
       "                  [0, 0, 0],\n",
       "                  [0, 0, 0]]], shape=(300, 500, 3), dtype=uint8)"
      ]
     },
     "execution_count": 5,
     "metadata": {},
     "output_type": "execute_result"
    }
   ],
   "source": [
    "plotter = pv.Plotter()\n",
    "camera_position = [(0.5, 0.05, 1.25), (0.5, 0.05, 0), (0, 1, 0)]\n",
    "mesh = pv.read(\"poiseuilleFlowCases/poiseuilleFlow-Re11.10/VTK/poiseuilleFlow-Re11.10_79.vtm\")\n",
    "plotter.add_mesh(mesh[0], color=\"white\", show_edges=False)\n",
    "plotter.camera_position = camera_position\n",
    "plotter.background_color = 'black'\n",
    "plotter.window_size = (500, 300)\n",
    "plotter.screenshot(filename=f\"mlDataset/poiseuilleFlow/mask/poiseuilleFlowMask.png\")"
   ]
  },
  {
   "cell_type": "code",
   "execution_count": null,
   "id": "f5a19591",
   "metadata": {},
   "outputs": [],
   "source": []
  }
 ],
 "metadata": {
  "kernelspec": {
   "display_name": ".venv",
   "language": "python",
   "name": "python3"
  },
  "language_info": {
   "codemirror_mode": {
    "name": "ipython",
    "version": 3
   },
   "file_extension": ".py",
   "mimetype": "text/x-python",
   "name": "python",
   "nbconvert_exporter": "python",
   "pygments_lexer": "ipython3",
   "version": "3.11.13"
  }
 },
 "nbformat": 4,
 "nbformat_minor": 5
}
