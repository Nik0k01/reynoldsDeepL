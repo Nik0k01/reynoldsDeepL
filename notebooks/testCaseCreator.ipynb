{
 "cells": [
  {
   "cell_type": "code",
   "execution_count": 2,
   "id": "dffb3349",
   "metadata": {},
   "outputs": [],
   "source": [
    "import os\n",
    "from numpy import linspace\n",
    "from PyFoam.RunDictionary.SolutionDirectory import SolutionDirectory\n",
    "from PyFoam.RunDictionary.ParsedParameterFile import ParsedParameterFile\n",
    "import pathlib"
   ]
  },
  {
   "cell_type": "code",
   "execution_count": 3,
   "id": "f3408c49",
   "metadata": {},
   "outputs": [],
   "source": [
    "reynolds_no = linspace(1, 20, 5) # Reynolds numbers to simulate\n",
    "# Kinematic viscosity values based on characteristic geometry\n",
    "viscosity_vals = 0.03 / reynolds_no"
   ]
  },
  {
   "cell_type": "markdown",
   "id": "965b186b",
   "metadata": {},
   "source": [
    "### Create Case Directories"
   ]
  },
  {
   "cell_type": "markdown",
   "id": "d000522d",
   "metadata": {},
   "source": [
    "Get the name of the folders in Templates directory"
   ]
  },
  {
   "cell_type": "code",
   "execution_count": 4,
   "id": "d4b1d7f1",
   "metadata": {},
   "outputs": [
    {
     "data": {
      "text/plain": [
       "PosixPath('/home/niko/Documents/Python/reynoldsDeepL/templates/testCase')"
      ]
     },
     "execution_count": 4,
     "metadata": {},
     "output_type": "execute_result"
    }
   ],
   "source": [
    "path = pathlib.Path.cwd()\n",
    "test_case_path = path.parent / 'templates'/ 'testCase'\n",
    "test_case_path"
   ]
  },
  {
   "cell_type": "markdown",
   "id": "a64f1c7a",
   "metadata": {},
   "source": [
    "Iterate over the folders in templates dir to create flow cases"
   ]
  },
  {
   "cell_type": "code",
   "execution_count": 5,
   "id": "913967d6",
   "metadata": {},
   "outputs": [],
   "source": [
    "templateDir = SolutionDirectory(test_case_path, archive=None, paraviewLink=False)\n",
    "# Drop the template\n",
    "case_name = 'testCase'\n",
    "for i, reynolds in enumerate(reynolds_no):\n",
    "    # Define the unique name for the case\n",
    "    flow_case = path.parent / \"flowCases\" / f\"{case_name}Re={reynolds:.2f}\"\n",
    "    # Create a new case\n",
    "    case = templateDir.cloneCase(str(flow_case), paraviewLink=False)\n",
    "    vis = viscosity_vals\n",
    "    # Get the directory with viscosity parameter\n",
    "    transportProps = ParsedParameterFile(flow_case / \"constant\" / \"transportProperties\")\n",
    "    # Set appropriate value of viscosity\n",
    "    transportProps[\"nu\"] = vis[i]\n",
    "    # Save the transport properties dictionary\n",
    "    transportProps.writeFile()\n",
    "             "
   ]
  },
  {
   "cell_type": "code",
   "execution_count": null,
   "id": "24500338",
   "metadata": {},
   "outputs": [],
   "source": []
  }
 ],
 "metadata": {
  "kernelspec": {
   "display_name": ".venv",
   "language": "python",
   "name": "python3"
  },
  "language_info": {
   "codemirror_mode": {
    "name": "ipython",
    "version": 3
   },
   "file_extension": ".py",
   "mimetype": "text/x-python",
   "name": "python",
   "nbconvert_exporter": "python",
   "pygments_lexer": "ipython3",
   "version": "3.11.13"
  }
 },
 "nbformat": 4,
 "nbformat_minor": 5
}
